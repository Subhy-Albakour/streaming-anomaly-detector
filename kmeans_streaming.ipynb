{
 "cells": [
  {
   "cell_type": "code",
   "execution_count": 26,
   "metadata": {},
   "outputs": [],
   "source": [
    "import numpy as np\n",
    "from sklearn.datasets import make_blobs\n",
    "\n",
    "def get_outlier_centers(centers,outlier_distance):\n",
    "    \n",
    "    x_centers=[p[0] for p in centers]\n",
    "    y_centers=[p[1] for p in centers]\n",
    "\n",
    "    max_x=max(x_centers)\n",
    "    min_x=min(x_centers)\n",
    "    max_y=max(y_centers)\n",
    "    min_y=min(y_centers)\n",
    "    \n",
    "    x_range=max_x-min_x\n",
    "    y_range=max_y-min_y\n",
    "    \n",
    "    x1=max_x+outlier_distance*x_range\n",
    "    x2=min_x-outlier_distance*x_range\n",
    "    y1=max_y+outlier_distance*y_range\n",
    "    y2=min_y-outlier_distance*y_range\n",
    "    outlier_centers=[(x1,y1),(x1,y2),(x2,y1),(x2,y2),(x1,(y1+y2)/2),(x2,(y1+y2)/2),((x1+x2)/2,y1),((x1+x2)/2,y2)]\n",
    "    \n",
    "    return outlier_centers\n",
    "    \n",
    "def generate_clusters_with_outliers_2d(centers,n_samples=1000,outlier_ratio=0.01,\n",
    "                                       std=1,outlier_std_ratio=3,outlier_distance=0.5):\n",
    "\n",
    "    X, y = make_blobs(n_samples=n_samples, n_features=2, cluster_std=std,\n",
    "                      centers=centers, shuffle=False, random_state=42)\n",
    "\n",
    "    n_anoms=int(n_samples*outlier_ratio)\n",
    "    anoms = np.random.choice(n_samples,n_anoms) \n",
    "    outlier_centers=get_outlier_centers(centers,outlier_distance)\n",
    "    \n",
    "    X2,y_ = make_blobs(n_samples=n_anoms, n_features=2, cluster_std=std*outlier_std_ratio,\n",
    "                      centers=outlier_centers, shuffle=False, random_state=42)\n",
    "    X[anoms]=X2\n",
    "    y[:]=0\n",
    "    y[anoms]=1\n",
    "    \n",
    "    return X,y\n",
    "    "
   ]
  },
  {
   "cell_type": "code",
   "execution_count": null,
   "metadata": {},
   "outputs": [],
   "source": [
    "class BICO:\n",
    "    \n",
    "    def init(self,kmeans_model,max_nodes=10,dim=2,thresh=0.001)\n",
    "    self.max_nodes=max_nodes\n",
    "    tree=CFTree(dim=2,thresh=0.001,max_nodes= coreset_size)"
   ]
  },
  {
   "cell_type": "code",
   "execution_count": null,
   "metadata": {},
   "outputs": [],
   "source": [
    "\n",
    "\n",
    "class OutlierDetector:\n",
    "\n",
    "    def __init__(self, clustering_model,thresh,window_size=100, max_models=100):\n",
    "        self.H = []\n",
    "        self.h = None\n",
    "        # TODO\n",
    "\n",
    "    def partial_fit(self, X, y=None, classes=None):\n",
    "        # TODO \n",
    "        # if not initialized ...\n",
    "            # Setup \n",
    "        # N.B.: The 'classes' option is not important for this classifier\n",
    "        # HINT: You can build a decision tree model on a set of data like this:\n",
    "        #       h = DecisionTreeClassifier()\n",
    "        #       h.fit(X_batch,y_batch)\n",
    "        #       self.H.append(h) # <-- and append it to the ensemble\n",
    "\n",
    "        return self\n",
    "\n",
    "    def predict(self, X):\n",
    "        # TODO \n",
    "        N, D = X.shape\n",
    "        # You also need to change this line to return your prediction instead of 0s:\n",
    "        return zeros(N) "
   ]
  }
 ],
 "metadata": {
  "kernelspec": {
   "display_name": "Python 3",
   "language": "python",
   "name": "python3"
  },
  "language_info": {
   "codemirror_mode": {
    "name": "ipython",
    "version": 3
   },
   "file_extension": ".py",
   "mimetype": "text/x-python",
   "name": "python",
   "nbconvert_exporter": "python",
   "pygments_lexer": "ipython3",
   "version": "3.6.7"
  }
 },
 "nbformat": 4,
 "nbformat_minor": 2
}
